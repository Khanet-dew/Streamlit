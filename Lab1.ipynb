{
  "nbformat": 4,
  "nbformat_minor": 0,
  "metadata": {
    "colab": {
      "name": "Lab1.ipynb",
      "provenance": [],
      "collapsed_sections": []
    },
    "kernelspec": {
      "name": "python3",
      "display_name": "Python 3"
    },
    "language_info": {
      "name": "python"
    }
  },
  "cells": [
    {
      "cell_type": "code",
      "execution_count": null,
      "metadata": {
        "colab": {
          "base_uri": "https://localhost:8080/",
          "height": 304
        },
        "id": "wuQcnpAKhcp8",
        "outputId": "5ef6a1e0-fef1-44c3-fd56-40a6e1abc4e2"
      },
      "outputs": [
        {
          "output_type": "stream",
          "name": "stdout",
          "text": [
            "theta =  [0.57142857 0.85714286]\n",
            "y predict =  [0.57142857 9.14285714]\n"
          ]
        },
        {
          "output_type": "display_data",
          "data": {
            "image/png": "[encoded data removed]",
            "text/plain": [
              "<Figure size 432x288 with 1 Axes>"
            ]
          },
          "metadata": {
            "needs_background": "light"
          }
        }
      ],
      "source": [
        "import numpy as np\n",
        "x = np.array([0,2,3])\n",
        "y = np.array([1,1,4])\n",
        "x_b = np.c_[np.ones((3,1)),x]\n",
        "\n",
        "#call inverse function from linear algebra module\n",
        "theta_best = np.linalg.inv(x_b.T.dot(x_b)).dot(x_b.T).dot(y)\n",
        "print(\"theta = \", theta_best)\n",
        "\n",
        "#prediction\n",
        "x_n = np.array([[0],[10]])\n",
        "x_n_b = np.c_[np.ones((2,1)), x_n]\n",
        "y_p = x_n_b.dot(theta_best)\n",
        "print(\"y predict = \",y_p)\n",
        "\n",
        "import matplotlib.pyplot as plt\n",
        "plt.plot(x_n, y_p,\"r-\")\n",
        "plt.plot(x,y, \"b.\")\n",
        "plt.axis([0,10,0,10])\n",
        "plt.show()"
      ]
    },
    {
      "cell_type": "code",
      "source": [
        "import numpy as np\n",
        "from sklearn.linear_model import LinearRegression \n",
        "x = np.array([[0,2,3]]).T\n",
        "y = np.array([1,1,4])\n",
        "\n",
        "lin_reg = LinearRegression()\n",
        "lin_reg.fit(x, y)\n",
        "print(lin_reg.intercept_, \" , \", lin_reg.coef_)\n",
        "x_n = np.array([[0]]).T\n",
        "ans = lin_reg.predict(x_n)\n",
        "print(ans)"
      ],
      "metadata": {
        "colab": {
          "base_uri": "https://localhost:8080/"
        },
        "id": "120SqeKAhknm",
        "outputId": "07c7db98-ffcf-4cc0-e4ce-89507440be78"
      },
      "execution_count": null,
      "outputs": [
        {
          "output_type": "stream",
          "name": "stdout",
          "text": [
            "0.5714285714285712  ,  [0.85714286]\n",
            "[0.57142857]\n"
          ]
        }
      ]
    },
    {
      "cell_type": "code",
      "source": [
        "import numpy as np\n",
        "import random\n",
        "import sklearn\n",
        "from sklearn.datasets import make_regression \n",
        "import matplotlib.pyplot as plt\n",
        "from scipy import stats\n",
        "\n",
        "def cost_function(theta0, theta1, x, y, m):\n",
        "    c = sum([(theta0 + theta1*x[i] - y[i])**2 for i in range(m)])\n",
        "    return c\n",
        "\n",
        "def gradient_descent(alpha, x, y, ep=0.0001, max_iter=10000):\n",
        "\n",
        "    converged = False\n",
        "    iter = 0\n",
        "    m = x.shape[0] # number of samples\n",
        "\n",
        "    # initial theta\n",
        "    t0 = np.random.random(x.shape[1])\n",
        "  \n",
        "    t1 = np.random.random(x.shape[1])\n",
        "\n",
        "    # total error, J(theta)\n",
        "    J = cost_function(t0,t1,x,y,m) \n",
        "\n",
        "    # Iterate Loop\n",
        "    while not converged:\n",
        "        grad0 = sum([(t0 + t1*x[i] - y[i]) for i in range(m)]) \n",
        "        grad1 = sum([(t0 + t1*x[i] - y[i])*x[i] for i in range(m)])\n",
        "\n",
        "        # update the theta_temp\n",
        "        temp0 = t0 - alpha * grad0\n",
        "        temp1 = t1 - alpha * grad1\n",
        "        # update theta\n",
        "        t0 = temp0\n",
        "        t1 = temp1\n",
        "\n",
        "        # error\n",
        "        e = cost_function(t0,t1,x,y,m)\n",
        "\n",
        "        if abs(J-e) <= ep:\n",
        "           print(\"Converged, iterations: \", iter, \"/\", max_iter)\n",
        "           converged = True\n",
        "    \n",
        "        J = e   # update error s\n",
        "        iter += 1  # update iter\n",
        "    \n",
        "        if iter == max_iter:\n",
        "            print('Max interactions exceeded!')\n",
        "            converged = True\n",
        "\n",
        "    return t0,t1\n",
        "\n",
        "\n",
        "if __name__ == '__main__':\n",
        "\n",
        "    #x, y = make_regression(n_samples=100, n_features=1, n_informative=1, random_state=0, noise=35) \n",
        "    x = np.array([[0,2,3]]).T # or x = np.array([[0],[2],[3]])\n",
        "    y = np.array([1,1,4])\n",
        "    print(\"x.shape = %s y.shape = %s\" %(x.shape, y.shape))\n",
        "    alpha = 0.01 # learning rate\n",
        "\n",
        "    theta0, theta1 = gradient_descent(alpha, x, y, max_iter=1000)\n",
        "    print ((\"theta0 = %s theta1 = %s\") %(theta0, theta1)) \n",
        "\n",
        "    # check with scipy linear regression \n",
        "    slope, intercept, r_value, p_value, slope_std_error = stats.linregress(x[:,0], y)\n",
        "    print ((\"intercept = %s slope = %s\") %(intercept, slope))\n",
        "\n",
        "    # plot\n",
        "    for i in range(x.shape[0]):\n",
        "        y_predict = theta0 + theta1*x \n",
        "\n",
        "    plt.plot(x,y,'o')\n",
        "    plt.plot(x,y_predict,'k-')\n",
        "    plt.show()"
      ],
      "metadata": {
        "colab": {
          "base_uri": "https://localhost:8080/",
          "height": 334
        },
        "id": "twNBh_HRhple",
        "outputId": "e8164f2d-894d-4e10-dea6-d1a1c8053509"
      },
      "execution_count": null,
      "outputs": [
        {
          "output_type": "stream",
          "name": "stdout",
          "text": [
            "x.shape = (3, 1) y.shape = (3,)\n",
            "Converged, iterations:  30 / 1000\n",
            "theta0 = [0.58117577] theta1 = [0.84881281]\n",
            "intercept = 0.5714285714285714 slope = 0.8571428571428571\n"
          ]
        },
        {
          "output_type": "display_data",
          "data": {
            "image/png": "[encoded data removed]",
            "text/plain": [
              "<Figure size 432x288 with 1 Axes>"
            ]
          },
          "metadata": {
            "needs_background": "light"
          }
        }
      ]
    }
  ]
}